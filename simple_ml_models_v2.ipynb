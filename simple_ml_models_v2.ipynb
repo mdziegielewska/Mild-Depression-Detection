{
 "cells": [
  {
   "cell_type": "code",
   "execution_count": 1,
   "metadata": {},
   "outputs": [],
   "source": [
    "import glob\n",
    "import cv2\n",
    "import numpy as np\n",
    "\n",
    "from sklearn.model_selection import train_test_split\n",
    "\n",
    "from sklearn.ensemble import RandomForestClassifier, AdaBoostClassifier\n",
    "from xgboost import XGBClassifier\n",
    "from sklearn import svm\n",
    "\n",
    "from model_single_train import ModelSingleTrain\n",
    "from model_cross_validation import ModelCrossValidation"
   ]
  },
  {
   "cell_type": "code",
   "execution_count": 2,
   "metadata": {},
   "outputs": [],
   "source": [
    "FOLD_NUMBER = 5\n",
    "SEED = 420"
   ]
  },
  {
   "cell_type": "code",
   "execution_count": 3,
   "metadata": {},
   "outputs": [],
   "source": [
    "import matplotlib.pyplot as plt # read data\n",
    "\n",
    "base_folder = \"C:/Users/Acer/Desktop/szkola/wizja/prezentacja/Mild-Depression-Detection/preprocessed_data\"\n",
    "\n",
    "data = [[] for x in range(25)]\n",
    "labels = [[] for x in range(25)]\n",
    "\n",
    "for i in glob.glob(f'{base_folder}/**/*.png', recursive=True):\n",
    "    index = int((i.split('-slice_')[1]).split('.png')[0])-1\n",
    "    data[index].append(cv2.cvtColor(cv2.imread(i), cv2.COLOR_BGR2GRAY))\n",
    "    patient_index = (int((i.split('\\\\patient_')[1]).split('\\\\')[0])) - 1\n",
    "    if patient_index < 51:\n",
    "        labels[index].append(1)\n",
    "    else:\n",
    "        labels[index].append(0)\n",
    "all_data = len(data)"
   ]
  },
  {
   "cell_type": "code",
   "execution_count": 4,
   "metadata": {},
   "outputs": [
    {
     "name": "stdout",
     "output_type": "stream",
     "text": [
      "(25, 72, 112, 112)\n",
      "(25, 72)\n"
     ]
    }
   ],
   "source": [
    "data = np.array(data)\n",
    "print(data.shape)\n",
    "labels = np.array(labels)\n",
    "print(labels.shape)"
   ]
  },
  {
   "cell_type": "code",
   "execution_count": 5,
   "metadata": {},
   "outputs": [
    {
     "name": "stdout",
     "output_type": "stream",
     "text": [
      "(25, 72, 12544)\n"
     ]
    }
   ],
   "source": [
    "# reshape 4d to 2d\n",
    "# based on https://bic-berkeley.github.io/psych-214-fall-2016/reshape_and_4d.html\n",
    "new_data = []\n",
    "for slice_data in data:\n",
    "    vol_shape = slice_data.shape[1:]\n",
    "    #print(vol_shape)\n",
    "    n_voxels = np.prod(vol_shape)\n",
    "    #print(n_voxels)\n",
    "    reshaped_data = slice_data.reshape(n_voxels, slice_data.shape[0])\n",
    "    slice_data = np.transpose(reshaped_data)\n",
    "    #print(slice_data.shape)\n",
    "    new_data.append(slice_data)\n",
    "\n",
    "data = np.array(new_data)\n",
    "print(data.shape)"
   ]
  },
  {
   "cell_type": "markdown",
   "metadata": {},
   "source": [
    "### SVM"
   ]
  },
  {
   "cell_type": "code",
   "execution_count": 6,
   "metadata": {},
   "outputs": [],
   "source": [
    "svm_clf = svm.SVC(kernel='linear', probability=True, random_state=SEED)"
   ]
  },
  {
   "cell_type": "markdown",
   "metadata": {},
   "source": [
    "#### Single train"
   ]
  },
  {
   "cell_type": "code",
   "execution_count": 30,
   "metadata": {},
   "outputs": [
    {
     "name": "stdout",
     "output_type": "stream",
     "text": [
      "\n",
      "avg balanced accuracy 0.9633333333333336\n",
      "\n",
      "avg precision 0.9736000000000001\n",
      "\n",
      "avg recall 0.9706666666666668\n",
      "\n",
      "avg f1 score 0.0372822966507177\n",
      "\n"
     ]
    },
    {
     "data": {
      "image/png": "[encoded data removed]",
      "text/plain": [
       "<Figure size 640x480 with 2 Axes>"
      ]
     },
     "metadata": {},
     "output_type": "display_data"
    }
   ],
   "source": [
    "b_acc_sum = 0\n",
    "precision_sum = 0\n",
    "recall_sum = 0\n",
    "f1_sum = 0\n",
    "cm_sum = np.array([[0,0],[0,0]])\n",
    "for slice_labels, slice_data in zip(labels,data):\n",
    "    X_train, X_test, y_train, y_test = train_test_split(slice_data, slice_labels, test_size=0.2, random_state=SEED)\n",
    "    svm_model_object = ModelSingleTrain(svm_clf, X_train, y_train, X_test, y_test, SEED)\n",
    "    (b_accuracy, precision, recall, f1, cm) = svm_model_object.train_and_get_metrics()\n",
    "    b_acc_sum += b_accuracy\n",
    "    precision_sum += precision\n",
    "    recall_sum += recall\n",
    "    f1_sum = f1\n",
    "    cm_sum += cm\n",
    "data_num = data.shape[0]\n",
    "b_acc_sum /= data_num\n",
    "precision_sum /= data_num\n",
    "recall_sum /= data_num\n",
    "f1_sum /= data_num\n",
    "\n",
    "set_name = 'avg'\n",
    "\n",
    "print()\n",
    "print(f\"{set_name} balanced accuracy {b_acc_sum}\")\n",
    "print()\n",
    "print(f\"{set_name} precision {precision_sum}\")\n",
    "print()\n",
    "print(f\"{set_name} recall {recall_sum}\")\n",
    "print()\n",
    "print(f\"{set_name} f1 score {f1_sum}\")\n",
    "print()\n",
    "\n",
    "svm_model_object.show_cm(cm_sum)"
   ]
  },
  {
   "cell_type": "markdown",
   "metadata": {},
   "source": [
    "### Random Forest"
   ]
  },
  {
   "cell_type": "code",
   "execution_count": 31,
   "metadata": {},
   "outputs": [],
   "source": [
    "rf_clf = RandomForestClassifier(random_state=SEED, \n",
    "                                n_estimators=50, \n",
    "                                criterion=\"entropy\")"
   ]
  },
  {
   "cell_type": "markdown",
   "metadata": {},
   "source": [
    "#### Single Train"
   ]
  },
  {
   "cell_type": "code",
   "execution_count": 32,
   "metadata": {},
   "outputs": [
    {
     "name": "stdout",
     "output_type": "stream",
     "text": [
      "\n",
      "avg balanced accuracy 0.956666666666667\n",
      "\n",
      "avg precision 0.9688000000000003\n",
      "\n",
      "avg recall 0.9653333333333335\n",
      "\n",
      "avg f1 score 0.0372822966507177\n",
      "\n"
     ]
    },
    {
     "data": {
      "image/png": "[encoded data removed]",
      "text/plain": [
       "<Figure size 640x480 with 2 Axes>"
      ]
     },
     "metadata": {},
     "output_type": "display_data"
    }
   ],
   "source": [
    "b_acc_sum = 0\n",
    "precision_sum = 0\n",
    "recall_sum = 0\n",
    "f1_sum = 0\n",
    "cm_sum = np.array([[0,0],[0,0]])\n",
    "for slice_labels, slice_data in zip(labels,data):\n",
    "    X_train, X_test, y_train, y_test = train_test_split(slice_data, slice_labels, test_size=0.2, random_state=SEED)\n",
    "    svm_model_object = ModelSingleTrain(rf_clf, X_train, y_train, X_test, y_test, SEED)\n",
    "    (b_accuracy, precision, recall, f1, cm) = svm_model_object.train_and_get_metrics()\n",
    "    b_acc_sum += b_accuracy\n",
    "    precision_sum += precision\n",
    "    recall_sum += recall\n",
    "    f1_sum = f1\n",
    "    cm_sum += cm\n",
    "data_num = data.shape[0]\n",
    "b_acc_sum /= data_num\n",
    "precision_sum /= data_num\n",
    "recall_sum /= data_num\n",
    "f1_sum /= data_num\n",
    "\n",
    "set_name = 'avg'\n",
    "\n",
    "print()\n",
    "print(f\"{set_name} balanced accuracy {b_acc_sum}\")\n",
    "print()\n",
    "print(f\"{set_name} precision {precision_sum}\")\n",
    "print()\n",
    "print(f\"{set_name} recall {recall_sum}\")\n",
    "print()\n",
    "print(f\"{set_name} f1 score {f1_sum}\")\n",
    "print()\n",
    "\n",
    "svm_model_object.show_cm(cm_sum)"
   ]
  },
  {
   "cell_type": "markdown",
   "metadata": {},
   "source": [
    "### XGBoost"
   ]
  },
  {
   "cell_type": "code",
   "execution_count": 33,
   "metadata": {},
   "outputs": [],
   "source": [
    "xgb_clf = XGBClassifier(booster='gbtree',\n",
    "                        eta = 0.2,\n",
    "                        min_child_weight=1,\n",
    "                        max_depth=5,\n",
    "                        gamma=0.5,\n",
    "                        random_state=SEED)"
   ]
  },
  {
   "cell_type": "markdown",
   "metadata": {},
   "source": [
    "#### Single Train"
   ]
  },
  {
   "cell_type": "code",
   "execution_count": 34,
   "metadata": {},
   "outputs": [
    {
     "name": "stdout",
     "output_type": "stream",
     "text": [
      "\n",
      "avg balanced accuracy 0.9500000000000002\n",
      "\n",
      "avg precision 0.9644363636363639\n",
      "\n",
      "avg recall 0.9600000000000002\n",
      "\n",
      "avg f1 score 0.0372822966507177\n",
      "\n"
     ]
    },
    {
     "data": {
      "image/png": "[encoded data removed]",
      "text/plain": [
       "<Figure size 640x480 with 2 Axes>"
      ]
     },
     "metadata": {},
     "output_type": "display_data"
    }
   ],
   "source": [
    "b_acc_sum = 0\n",
    "precision_sum = 0\n",
    "recall_sum = 0\n",
    "f1_sum = 0\n",
    "cm_sum = np.array([[0,0],[0,0]])\n",
    "for slice_labels, slice_data in zip(labels,data):\n",
    "    X_train, X_test, y_train, y_test = train_test_split(slice_data, slice_labels, test_size=0.2, random_state=SEED)\n",
    "    svm_model_object = ModelSingleTrain(xgb_clf, X_train, y_train, X_test, y_test, SEED)\n",
    "    (b_accuracy, precision, recall, f1, cm) = svm_model_object.train_and_get_metrics()\n",
    "    b_acc_sum += b_accuracy\n",
    "    precision_sum += precision\n",
    "    recall_sum += recall\n",
    "    f1_sum = f1\n",
    "    cm_sum += cm\n",
    "data_num = data.shape[0]\n",
    "b_acc_sum /= data_num\n",
    "precision_sum /= data_num\n",
    "recall_sum /= data_num\n",
    "f1_sum /= data_num\n",
    "\n",
    "set_name = 'avg'\n",
    "\n",
    "print()\n",
    "print(f\"{set_name} balanced accuracy {b_acc_sum}\")\n",
    "print()\n",
    "print(f\"{set_name} precision {precision_sum}\")\n",
    "print()\n",
    "print(f\"{set_name} recall {recall_sum}\")\n",
    "print()\n",
    "print(f\"{set_name} f1 score {f1_sum}\")\n",
    "print()\n",
    "\n",
    "svm_model_object.show_cm(cm_sum)"
   ]
  },
  {
   "cell_type": "markdown",
   "metadata": {},
   "source": [
    "### AdaBoost"
   ]
  },
  {
   "cell_type": "code",
   "execution_count": 35,
   "metadata": {},
   "outputs": [],
   "source": [
    "adb_clf = AdaBoostClassifier(n_estimators=100, \n",
    "                            random_state=SEED)"
   ]
  },
  {
   "cell_type": "markdown",
   "metadata": {},
   "source": [
    "#### Single Train"
   ]
  },
  {
   "cell_type": "code",
   "execution_count": 38,
   "metadata": {},
   "outputs": [
    {
     "name": "stdout",
     "output_type": "stream",
     "text": [
      "\n",
      "avg balanced accuracy 0.9466666666666669\n",
      "\n",
      "avg precision 0.9620363636363638\n",
      "\n",
      "avg recall 0.9573333333333335\n",
      "\n",
      "avg f1 score 0.0372822966507177\n",
      "\n"
     ]
    },
    {
     "data": {
      "image/png": "[encoded data removed]",
      "text/plain": [
       "<Figure size 640x480 with 2 Axes>"
      ]
     },
     "metadata": {},
     "output_type": "display_data"
    }
   ],
   "source": [
    "b_acc_sum = 0\n",
    "precision_sum = 0\n",
    "recall_sum = 0\n",
    "f1_sum = 0\n",
    "cm_sum = np.array([[0,0],[0,0]])\n",
    "for slice_labels, slice_data in zip(labels,data):\n",
    "    X_train, X_test, y_train, y_test = train_test_split(slice_data, slice_labels, test_size=0.2, random_state=SEED)\n",
    "    svm_model_object = ModelSingleTrain(adb_clf, X_train, y_train, X_test, y_test, SEED)\n",
    "    (b_accuracy, precision, recall, f1, cm) = svm_model_object.train_and_get_metrics()\n",
    "    b_acc_sum += b_accuracy\n",
    "    precision_sum += precision\n",
    "    recall_sum += recall\n",
    "    f1_sum = f1\n",
    "    cm_sum += cm\n",
    "data_num = data.shape[0]\n",
    "b_acc_sum /= data_num\n",
    "precision_sum /= data_num\n",
    "recall_sum /= data_num\n",
    "f1_sum /= data_num\n",
    "\n",
    "set_name = 'avg'\n",
    "\n",
    "print()\n",
    "print(f\"{set_name} balanced accuracy {b_acc_sum}\")\n",
    "print()\n",
    "print(f\"{set_name} precision {precision_sum}\")\n",
    "print()\n",
    "print(f\"{set_name} recall {recall_sum}\")\n",
    "print()\n",
    "print(f\"{set_name} f1 score {f1_sum}\")\n",
    "print()\n",
    "\n",
    "svm_model_object.show_cm(cm_sum)"
   ]
  }
 ],
 "metadata": {
  "kernelspec": {
   "display_name": "Python 3.10.0 ('venv': venv)",
   "language": "python",
   "name": "python3"
  },
  "language_info": {
   "codemirror_mode": {
    "name": "ipython",
    "version": 3
   },
   "file_extension": ".py",
   "mimetype": "text/x-python",
   "name": "python",
   "nbconvert_exporter": "python",
   "pygments_lexer": "ipython3",
   "version": "3.10.0"
  },
  "orig_nbformat": 4,
  "vscode": {
   "interpreter": {
    "hash": "6972d223d07e54d76ba24c9067019bfb2fdd6ea68828083e11f324056b9f35d7"
   }
  }
 },
 "nbformat": 4,
 "nbformat_minor": 2
}
