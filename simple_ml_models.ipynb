{
 "cells": [
  {
   "cell_type": "code",
   "execution_count": 1,
   "metadata": {},
   "outputs": [],
   "source": [
    "import glob\n",
    "import cv2\n",
    "import numpy as np\n",
    "\n",
    "from sklearn.model_selection import train_test_split\n",
    "\n",
    "from sklearn.ensemble import RandomForestClassifier, AdaBoostClassifier\n",
    "from xgboost import XGBClassifier\n",
    "from sklearn import svm\n",
    "\n",
    "from model_single_train import ModelSingleTrain\n",
    "from model_cross_validation import ModelCrossValidation"
   ]
  },
  {
   "cell_type": "code",
   "execution_count": 2,
   "metadata": {},
   "outputs": [],
   "source": [
    "FOLD_NUMBER = 5\n",
    "SEED = 42"
   ]
  },
  {
   "cell_type": "code",
   "execution_count": 3,
   "metadata": {},
   "outputs": [],
   "source": [
    "# read data\n",
    "\n",
    "base_folder = \"C:/Users/martae/Desktop/repos/Mild-Depression-Detection/preprocessed_data\"\n",
    "\n",
    "data = []\n",
    "for i in glob.glob(f'{base_folder}/**/*.png', recursive=True):\n",
    "    data.append(cv2.imread(i))\n",
    "\n",
    "all_data = len(data)"
   ]
  },
  {
   "cell_type": "code",
   "execution_count": 4,
   "metadata": {},
   "outputs": [
    {
     "name": "stdout",
     "output_type": "stream",
     "text": [
      "0.2916666666666667\n",
      "0.7083333333333333\n"
     ]
    }
   ],
   "source": [
    "MILD_DEPRESSION = 51\n",
    "NO_DEPRESSION = 21\n",
    "\n",
    "healthy_ratio = NO_DEPRESSION/(NO_DEPRESSION + MILD_DEPRESSION)\n",
    "print(healthy_ratio)\n",
    "\n",
    "depression_ratio = 1 - healthy_ratio\n",
    "print(depression_ratio)"
   ]
  },
  {
   "cell_type": "code",
   "execution_count": 5,
   "metadata": {},
   "outputs": [
    {
     "name": "stdout",
     "output_type": "stream",
     "text": [
      "525.0\n",
      "1275.0\n",
      "1800\n"
     ]
    }
   ],
   "source": [
    "# get labels\n",
    "\n",
    "labels = []\n",
    "\n",
    "healthy_data = healthy_ratio * all_data\n",
    "depression_data = all_data - healthy_data\n",
    "print(healthy_data)\n",
    "print(depression_data)\n",
    "\n",
    "for i in range(len(data)):\n",
    "    if i < depression_data:\n",
    "        labels.append(1)\n",
    "    else:\n",
    "        labels.append(0)\n",
    "\n",
    "print(len(labels))"
   ]
  },
  {
   "cell_type": "code",
   "execution_count": 6,
   "metadata": {},
   "outputs": [
    {
     "name": "stdout",
     "output_type": "stream",
     "text": [
      "(1800, 112, 112, 3)\n",
      "(1800,)\n"
     ]
    }
   ],
   "source": [
    "data = np.array(data)\n",
    "print(data.shape)\n",
    "labels = np.array(labels)\n",
    "print(labels.shape)"
   ]
  },
  {
   "cell_type": "code",
   "execution_count": 7,
   "metadata": {},
   "outputs": [
    {
     "name": "stdout",
     "output_type": "stream",
     "text": [
      "(112, 112, 3)\n",
      "37632\n",
      "(1800, 37632)\n"
     ]
    }
   ],
   "source": [
    "# reshape 4d to 2d\n",
    "# based on https://bic-berkeley.github.io/psych-214-fall-2016/reshape_and_4d.html\n",
    "\n",
    "vol_shape = data.shape[1:]\n",
    "print(vol_shape)\n",
    "n_voxels = np.prod(vol_shape)\n",
    "print(n_voxels)\n",
    "reshaped_data = data.reshape(n_voxels, data.shape[0])\n",
    "data = np.transpose(reshaped_data)\n",
    "print(data.shape)"
   ]
  },
  {
   "cell_type": "code",
   "execution_count": 8,
   "metadata": {},
   "outputs": [
    {
     "name": "stdout",
     "output_type": "stream",
     "text": [
      "(1440, 37632)\n",
      "(360, 37632)\n",
      "(1440,)\n",
      "(360,)\n"
     ]
    }
   ],
   "source": [
    "# split into training and test data\n",
    "\n",
    "X_train, X_test, y_train, y_test = train_test_split(data, labels, test_size=0.2, random_state=SEED)\n",
    "\n",
    "print(X_train.shape)\n",
    "print(X_test.shape)\n",
    "print(y_train.shape)\n",
    "print(y_test.shape)"
   ]
  },
  {
   "cell_type": "markdown",
   "metadata": {},
   "source": [
    "### SVM"
   ]
  },
  {
   "cell_type": "code",
   "execution_count": 9,
   "metadata": {},
   "outputs": [],
   "source": [
    "svm_clf = svm.SVC(kernel='linear', probability=True, random_state=SEED)"
   ]
  },
  {
   "cell_type": "markdown",
   "metadata": {},
   "source": [
    "#### Single train"
   ]
  },
  {
   "cell_type": "code",
   "execution_count": 10,
   "metadata": {},
   "outputs": [
    {
     "name": "stdout",
     "output_type": "stream",
     "text": [
      "\n",
      "Train balanced accuracy 1.0\n",
      "\n",
      "Train precision 1.0\n",
      "\n",
      "Train recall 1.0\n",
      "\n",
      "Train f1 score 1.0\n",
      "\n",
      "\n",
      "Validation balanced accuracy 1.0\n",
      "\n",
      "Validation precision 1.0\n",
      "\n",
      "Validation recall 1.0\n",
      "\n",
      "Validation f1 score 1.0\n",
      "\n",
      "\n",
      "Test balanced accuracy 1.0\n",
      "\n",
      "Test precision 1.0\n",
      "\n",
      "Test recall 1.0\n",
      "\n",
      "Test f1 score 1.0\n",
      "\n"
     ]
    }
   ],
   "source": [
    "svm_model_object = ModelSingleTrain(svm_clf, X_train, y_train, X_test, y_test, SEED)\n",
    "svm_model_object.main_cycle()"
   ]
  },
  {
   "cell_type": "code",
   "execution_count": 11,
   "metadata": {},
   "outputs": [
    {
     "data": {
      "image/png": "[encoded data removed]",
      "text/plain": [
       "<Figure size 720x720 with 2 Axes>"
      ]
     },
     "metadata": {
      "needs_background": "light"
     },
     "output_type": "display_data"
    }
   ],
   "source": [
    "svm_model_object.display_confusion_matrix()"
   ]
  },
  {
   "cell_type": "markdown",
   "metadata": {},
   "source": [
    "#### Cross Validation"
   ]
  },
  {
   "cell_type": "code",
   "execution_count": 12,
   "metadata": {},
   "outputs": [],
   "source": [
    "svm_model_object = ModelCrossValidation(svm_clf, X_train, y_train, X_test, y_test, FOLD_NUMBER)\n",
    "svm_model_object.main_cycle()"
   ]
  },
  {
   "cell_type": "code",
   "execution_count": 13,
   "metadata": {},
   "outputs": [
    {
     "name": "stdout",
     "output_type": "stream",
     "text": [
      "Test balanced accuracy 0.9952191235059761\n",
      "\n",
      "Test roc auc 1.0\n",
      "\n",
      "Test precision 0.9935119047619047\n",
      "\n",
      "Test recall 0.9933333333333334\n",
      "\n",
      "Test f1 score 0.9933585421219513\n"
     ]
    }
   ],
   "source": [
    "svm_model_object.display_test_results()"
   ]
  },
  {
   "cell_type": "markdown",
   "metadata": {},
   "source": [
    "### Random Forest"
   ]
  },
  {
   "cell_type": "code",
   "execution_count": 14,
   "metadata": {},
   "outputs": [],
   "source": [
    "rf_clf = RandomForestClassifier(random_state=SEED, \n",
    "                                n_estimators=50, \n",
    "                                criterion=\"entropy\")"
   ]
  },
  {
   "cell_type": "markdown",
   "metadata": {},
   "source": [
    "#### Single Train"
   ]
  },
  {
   "cell_type": "code",
   "execution_count": 15,
   "metadata": {},
   "outputs": [
    {
     "name": "stdout",
     "output_type": "stream",
     "text": [
      "\n",
      "Train balanced accuracy 1.0\n",
      "\n",
      "Train precision 1.0\n",
      "\n",
      "Train recall 1.0\n",
      "\n",
      "Train f1 score 1.0\n",
      "\n",
      "\n",
      "Validation balanced accuracy 1.0\n",
      "\n",
      "Validation precision 1.0\n",
      "\n",
      "Validation recall 1.0\n",
      "\n",
      "Validation f1 score 1.0\n",
      "\n",
      "\n",
      "Test balanced accuracy 0.9940239043824701\n",
      "\n",
      "Test precision 0.9918898809523808\n",
      "\n",
      "Test recall 0.9916666666666667\n",
      "\n",
      "Test f1 score 0.9916981776524392\n",
      "\n"
     ]
    }
   ],
   "source": [
    "rf_model_object = ModelSingleTrain(rf_clf, X_train, y_train, X_test, y_test, SEED)\n",
    "rf_model_object.main_cycle()"
   ]
  },
  {
   "cell_type": "code",
   "execution_count": 16,
   "metadata": {},
   "outputs": [
    {
     "data": {
      "image/png": "[encoded data removed]",
      "text/plain": [
       "<Figure size 720x720 with 2 Axes>"
      ]
     },
     "metadata": {
      "needs_background": "light"
     },
     "output_type": "display_data"
    }
   ],
   "source": [
    "rf_model_object.display_confusion_matrix()"
   ]
  },
  {
   "cell_type": "markdown",
   "metadata": {},
   "source": [
    "#### Cross Validation"
   ]
  },
  {
   "cell_type": "code",
   "execution_count": 17,
   "metadata": {},
   "outputs": [],
   "source": [
    "rf_model_object = ModelCrossValidation(rf_clf, X_train, y_train, X_test, y_test, FOLD_NUMBER)\n",
    "rf_model_object.main_cycle()"
   ]
  },
  {
   "cell_type": "code",
   "execution_count": 18,
   "metadata": {},
   "outputs": [
    {
     "name": "stdout",
     "output_type": "stream",
     "text": [
      "Test balanced accuracy 0.99402390438247\n",
      "\n",
      "Test roc auc 0.9999561387477612\n",
      "\n",
      "Test precision 0.9918898809523808\n",
      "\n",
      "Test recall 0.9916666666666668\n",
      "\n",
      "Test f1 score 0.9916981776524392\n"
     ]
    }
   ],
   "source": [
    "rf_model_object.display_test_results()"
   ]
  },
  {
   "cell_type": "markdown",
   "metadata": {},
   "source": [
    "### XGBoost"
   ]
  },
  {
   "cell_type": "code",
   "execution_count": 19,
   "metadata": {},
   "outputs": [],
   "source": [
    "xgb_clf = XGBClassifier(booster='gbtree',\n",
    "                        eta = 0.2,\n",
    "                        min_child_weight=1,\n",
    "                        max_depth=5,\n",
    "                        gamma=0.5,\n",
    "                        random_state=SEED)"
   ]
  },
  {
   "cell_type": "markdown",
   "metadata": {},
   "source": [
    "#### Single Train"
   ]
  },
  {
   "cell_type": "code",
   "execution_count": 20,
   "metadata": {},
   "outputs": [
    {
     "name": "stdout",
     "output_type": "stream",
     "text": [
      "\n",
      "Train balanced accuracy 1.0\n",
      "\n",
      "Train precision 1.0\n",
      "\n",
      "Train recall 1.0\n",
      "\n",
      "Train f1 score 1.0\n",
      "\n",
      "\n",
      "Validation balanced accuracy 1.0\n",
      "\n",
      "Validation precision 1.0\n",
      "\n",
      "Validation recall 1.0\n",
      "\n",
      "Validation f1 score 1.0\n",
      "\n",
      "\n",
      "Test balanced accuracy 1.0\n",
      "\n",
      "Test precision 1.0\n",
      "\n",
      "Test recall 1.0\n",
      "\n",
      "Test f1 score 1.0\n",
      "\n"
     ]
    }
   ],
   "source": [
    "xgb_model_object = ModelSingleTrain(xgb_clf, X_train, y_train, X_test, y_test, SEED)\n",
    "xgb_model_object.main_cycle()"
   ]
  },
  {
   "cell_type": "code",
   "execution_count": 21,
   "metadata": {},
   "outputs": [
    {
     "data": {
      "image/png": "[encoded data removed]",
      "text/plain": [
       "<Figure size 720x720 with 2 Axes>"
      ]
     },
     "metadata": {
      "needs_background": "light"
     },
     "output_type": "display_data"
    }
   ],
   "source": [
    "xgb_model_object.display_confusion_matrix()"
   ]
  },
  {
   "cell_type": "markdown",
   "metadata": {},
   "source": [
    "#### Cross Validation"
   ]
  },
  {
   "cell_type": "code",
   "execution_count": 22,
   "metadata": {},
   "outputs": [],
   "source": [
    "xgb_model_object = ModelCrossValidation(xgb_clf, X_train, y_train, X_test, y_test, FOLD_NUMBER)\n",
    "xgb_model_object.main_cycle()"
   ]
  },
  {
   "cell_type": "code",
   "execution_count": 23,
   "metadata": {},
   "outputs": [
    {
     "name": "stdout",
     "output_type": "stream",
     "text": [
      "Test balanced accuracy 0.99402390438247\n",
      "\n",
      "Test roc auc 0.9999561387477612\n",
      "\n",
      "Test precision 0.9918898809523808\n",
      "\n",
      "Test recall 0.9916666666666668\n",
      "\n",
      "Test f1 score 0.9916981776524392\n"
     ]
    }
   ],
   "source": [
    "rf_model_object.display_test_results()"
   ]
  },
  {
   "cell_type": "markdown",
   "metadata": {},
   "source": [
    "### AdaBoost"
   ]
  },
  {
   "cell_type": "code",
   "execution_count": 24,
   "metadata": {},
   "outputs": [],
   "source": [
    "adb_clf = AdaBoostClassifier(n_estimators=100, \n",
    "                            random_state=SEED)"
   ]
  },
  {
   "cell_type": "markdown",
   "metadata": {},
   "source": [
    "#### Single Train"
   ]
  },
  {
   "cell_type": "code",
   "execution_count": 25,
   "metadata": {},
   "outputs": [
    {
     "name": "stdout",
     "output_type": "stream",
     "text": [
      "\n",
      "Train balanced accuracy 1.0\n",
      "\n",
      "Train precision 1.0\n",
      "\n",
      "Train recall 1.0\n",
      "\n",
      "Train f1 score 1.0\n",
      "\n",
      "\n",
      "Validation balanced accuracy 1.0\n",
      "\n",
      "Validation precision 1.0\n",
      "\n",
      "Validation recall 1.0\n",
      "\n",
      "Validation f1 score 1.0\n",
      "\n",
      "\n",
      "Test balanced accuracy 0.9940239043824701\n",
      "\n",
      "Test precision 0.9918898809523808\n",
      "\n",
      "Test recall 0.9916666666666667\n",
      "\n",
      "Test f1 score 0.9916981776524392\n",
      "\n"
     ]
    }
   ],
   "source": [
    "adb_model_object = ModelSingleTrain(adb_clf, X_train, y_train, X_test, y_test, SEED)\n",
    "adb_model_object.main_cycle()"
   ]
  },
  {
   "cell_type": "code",
   "execution_count": 26,
   "metadata": {},
   "outputs": [
    {
     "data": {
      "image/png": "[encoded data removed]",
      "text/plain": [
       "<Figure size 720x720 with 2 Axes>"
      ]
     },
     "metadata": {
      "needs_background": "light"
     },
     "output_type": "display_data"
    }
   ],
   "source": [
    "adb_model_object.display_confusion_matrix()"
   ]
  },
  {
   "cell_type": "markdown",
   "metadata": {},
   "source": [
    "#### Cross Validation"
   ]
  },
  {
   "cell_type": "code",
   "execution_count": 27,
   "metadata": {},
   "outputs": [],
   "source": [
    "adb_model_object = ModelCrossValidation(adb_clf, X_train, y_train, X_test, y_test, FOLD_NUMBER)\n",
    "adb_model_object.main_cycle()"
   ]
  },
  {
   "cell_type": "code",
   "execution_count": 28,
   "metadata": {},
   "outputs": [
    {
     "name": "stdout",
     "output_type": "stream",
     "text": [
      "Test balanced accuracy 0.9976095617529881\n",
      "\n",
      "Test roc auc 1.0\n",
      "\n",
      "Test precision 0.9967559523809524\n",
      "\n",
      "Test recall 0.9966666666666667\n",
      "\n",
      "Test f1 score 0.9966792710609755\n"
     ]
    }
   ],
   "source": [
    "adb_model_object.display_test_results()"
   ]
  },
  {
   "cell_type": "code",
   "execution_count": null,
   "metadata": {},
   "outputs": [],
   "source": []
  }
 ],
 "metadata": {
  "kernelspec": {
   "display_name": "Python 3.9.7 ('base')",
   "language": "python",
   "name": "python3"
  },
  "language_info": {
   "codemirror_mode": {
    "name": "ipython",
    "version": 3
   },
   "file_extension": ".py",
   "mimetype": "text/x-python",
   "name": "python",
   "nbconvert_exporter": "python",
   "pygments_lexer": "ipython3",
   "version": "3.9.7"
  },
  "orig_nbformat": 4,
  "vscode": {
   "interpreter": {
    "hash": "c68600b7d95984227eb001d5e9ba5e3401d580f4a95fc8e82c18b9bef4b6c439"
   }
  }
 },
 "nbformat": 4,
 "nbformat_minor": 2
}
